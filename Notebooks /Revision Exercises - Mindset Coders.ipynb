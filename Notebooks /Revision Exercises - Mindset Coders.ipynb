{
 "cells": [
  {
   "cell_type": "markdown",
   "metadata": {},
   "source": [
    "# Functions "
   ]
  },
  {
   "cell_type": "code",
   "execution_count": 1,
   "metadata": {},
   "outputs": [
    {
     "name": "stdout",
     "output_type": "stream",
     "text": [
      "Hello World!\n"
     ]
    }
   ],
   "source": [
    "#Define a function named f_1 which will print \"Hello World!\"\n",
    "\n",
    "def f_1():\n",
    "    print(\"Hello World!\")\n",
    "    \n",
    "f_1()"
   ]
  },
  {
   "cell_type": "code",
   "execution_count": 5,
   "metadata": {},
   "outputs": [
    {
     "name": "stdout",
     "output_type": "stream",
     "text": [
      "Hello World!\n",
      "None\n"
     ]
    }
   ],
   "source": [
    "#Now define the same function f_1 and assign it to variable ans_1.\n",
    "\n",
    "def f_1():\n",
    "    print(\"Hello World!\")\n",
    "    \n",
    "ans_1 = f_1()\n",
    "print(ans_1)"
   ]
  },
  {
   "cell_type": "code",
   "execution_count": 6,
   "metadata": {},
   "outputs": [
    {
     "name": "stdout",
     "output_type": "stream",
     "text": [
      "Hello World!\n"
     ]
    }
   ],
   "source": [
    "#Now define the same f_1 function this time so that it \n",
    "#returns a value instead of just printing it..\n",
    "\n",
    "def f_1():\n",
    "    return \"Hello World!\"\n",
    "    \n",
    "    \n",
    "ans_1 = f_1()\n",
    "print(ans_1)"
   ]
  },
  {
   "cell_type": "code",
   "execution_count": 7,
   "metadata": {},
   "outputs": [
    {
     "name": "stdout",
     "output_type": "stream",
     "text": [
      "Hello World!\n",
      "Hello World!\n"
     ]
    }
   ],
   "source": [
    "#Now create a function named f_1 which \n",
    "#both prints and returns \"Hello World!\"\n",
    "\n",
    "def f_1():\n",
    "    print(\"Hello World!\")\n",
    "    \n",
    "    #return statement always ends the function \n",
    "    return \"Hello World!\"\n",
    "    \n",
    "    \n",
    "ans_1 = f_1()\n",
    "print(ans_1)"
   ]
  },
  {
   "cell_type": "code",
   "execution_count": 8,
   "metadata": {},
   "outputs": [
    {
     "name": "stdout",
     "output_type": "stream",
     "text": [
      "Hello World!\n"
     ]
    }
   ],
   "source": [
    "def f_1():\n",
    "    return\"Hello World!\"\n",
    "    \n",
    "    #return statement always ends the function \n",
    "    print(\"Hello World!\") \n",
    "    \n",
    "    \n",
    "ans_1 = f_1()\n",
    "print(ans_1)"
   ]
  },
  {
   "cell_type": "code",
   "execution_count": 10,
   "metadata": {},
   "outputs": [
    {
     "data": {
      "text/plain": [
       "100"
      ]
     },
     "execution_count": 10,
     "metadata": {},
     "output_type": "execute_result"
    }
   ],
   "source": [
    "#Create a function named f_1 which always returns the number: 100 .\n",
    "\n",
    "def f_1():\n",
    "    return 100\n",
    "f_1()"
   ]
  },
  {
   "cell_type": "code",
   "execution_count": 12,
   "metadata": {},
   "outputs": [
    {
     "name": "stdout",
     "output_type": "stream",
     "text": [
      "Enter a number12\n"
     ]
    },
    {
     "data": {
      "text/plain": [
       "12"
      ]
     },
     "execution_count": 12,
     "metadata": {},
     "output_type": "execute_result"
    }
   ],
   "source": [
    "#Create a function named f_1 which takes an \n",
    "#integer as input and then returns it.\n",
    "\n",
    "def f_1():\n",
    "    interger = int(input(\"Enter a number\"))\n",
    "    return interger\n",
    "f_1()\n"
   ]
  },
  {
   "cell_type": "code",
   "execution_count": 15,
   "metadata": {},
   "outputs": [
    {
     "name": "stdout",
     "output_type": "stream",
     "text": [
      "Enter a list of items 1246589743\n"
     ]
    },
    {
     "data": {
      "text/plain": [
       "['3', '4', '7', '9', '8', '5', '6', '4', '2', '1']"
      ]
     },
     "execution_count": 15,
     "metadata": {},
     "output_type": "execute_result"
    }
   ],
   "source": [
    "#Can you define a function that takes a list as input \n",
    "#and returns the reverse of that list\n",
    "\n",
    "def lst():\n",
    "    lst2 = []\n",
    "    lst1 = input(\"Enter a list of items \")\n",
    "    lst2.extend(lst1)\n",
    "    lst2.reverse()\n",
    "    return lst2\n",
    "lst()"
   ]
  },
  {
   "cell_type": "code",
   "execution_count": 20,
   "metadata": {},
   "outputs": [
    {
     "name": "stdout",
     "output_type": "stream",
     "text": [
      "Enter your name Solomon\n",
      "Hello!, Solomon\n"
     ]
    }
   ],
   "source": [
    "#Write a function named f_1 which will ask user \n",
    "#for their name and print Hello!, Name\n",
    "\n",
    "def f_1():\n",
    "    \n",
    "    name = input(\"Enter your name \")\n",
    "    \n",
    "    print(f\"Hello!, {name}\")\n",
    "    \n",
    "f_1()"
   ]
  },
  {
   "cell_type": "code",
   "execution_count": 21,
   "metadata": {},
   "outputs": [
    {
     "name": "stdout",
     "output_type": "stream",
     "text": [
      "Please enter your name Solomon\n",
      "Hello!, Solomon\n"
     ]
    }
   ],
   "source": [
    "def f_1():\n",
    "    \n",
    "    name = input(\"Please enter your name \")\n",
    "    \n",
    "    print(\"Hello!,\",name)\n",
    "    \n",
    "f_1()"
   ]
  },
  {
   "cell_type": "code",
   "execution_count": 22,
   "metadata": {},
   "outputs": [
    {
     "name": "stdout",
     "output_type": "stream",
     "text": [
      "Please enter your name Solomon\n",
      "Hello!,Solomon\n"
     ]
    }
   ],
   "source": [
    "def f_1():\n",
    "    \n",
    "    name = input(\"Please enter your name \")\n",
    "    \n",
    "    print(\"Hello!,{}\".format(name))\n",
    "    \n",
    "f_1()"
   ]
  },
  {
   "cell_type": "code",
   "execution_count": 23,
   "metadata": {},
   "outputs": [
    {
     "name": "stdout",
     "output_type": "stream",
     "text": [
      "Please enter your name Solomon\n",
      "Hello!,Solomon\n"
     ]
    }
   ],
   "source": [
    "def f_1():\n",
    "    \n",
    "    name = input(\"Please enter your name \")\n",
    "    \n",
    "    print(\"Hello!,\" + name)\n",
    "f_1()\n",
    "    "
   ]
  },
  {
   "cell_type": "code",
   "execution_count": 33,
   "metadata": {},
   "outputs": [
    {
     "name": "stdout",
     "output_type": "stream",
     "text": [
      "20\n"
     ]
    }
   ],
   "source": [
    "#Write 2 functions named f_1 and f_2. \n",
    "#First one takes a number as input and returns that number +5, \n",
    "#second function takes a number as input and returns first \n",
    "#function's result multiplied by 2.\n",
    "\n",
    "def f_1(n):\n",
    "    \n",
    "    return n + 5\n",
    "\n",
    "def f_2(t):\n",
    "    \n",
    "    return f_1(t) * 2\n",
    "\n",
    "print(f_2(5))"
   ]
  },
  {
   "cell_type": "code",
   "execution_count": 34,
   "metadata": {},
   "outputs": [
    {
     "name": "stdout",
     "output_type": "stream",
     "text": [
      "Enter number 2\n",
      "Enter number 2\n",
      "Enter number 2\n"
     ]
    },
    {
     "data": {
      "text/plain": [
       "14"
      ]
     },
     "execution_count": 34,
     "metadata": {},
     "output_type": "execute_result"
    }
   ],
   "source": [
    "def f_1():\n",
    "    num1 = int(input(\"Enter number \"))\n",
    "    result1 = num1 + 5\n",
    "    return result1\n",
    "def f_2():\n",
    "    num2 = int(input(\"Enter number \"))\n",
    "    result2 = f_1() * 2\n",
    "    return result2\n",
    "f_1()\n",
    "f_2()\n",
    "\n"
   ]
  },
  {
   "cell_type": "markdown",
   "metadata": {},
   "source": [
    "# slicing notation \n",
    "\n",
    "[start:stop:step]\n"
   ]
  },
  {
   "cell_type": "code",
   "execution_count": 35,
   "metadata": {},
   "outputs": [
    {
     "name": "stdout",
     "output_type": "stream",
     "text": [
      "Solom\n"
     ]
    }
   ],
   "source": [
    "word = \"Solomon\"\n",
    "\n",
    "#slice the word until the second last \"o\"(Solom)\n",
    "\n",
    "ans = word[0:5]# indexing \n",
    "\n",
    "print(ans)"
   ]
  },
  {
   "cell_type": "code",
   "execution_count": 36,
   "metadata": {},
   "outputs": [
    {
     "name": "stdout",
     "output_type": "stream",
     "text": [
      "Solom\n"
     ]
    }
   ],
   "source": [
    "word = \"Solomon\"\n",
    "\n",
    "#slice the word until the second last \"o\"(Solom)\n",
    "\n",
    "ans = word[:5]# indexing \n",
    "\n",
    "print(ans)"
   ]
  },
  {
   "cell_type": "code",
   "execution_count": 39,
   "metadata": {},
   "outputs": [
    {
     "name": "stdout",
     "output_type": "stream",
     "text": [
      "Solom\n"
     ]
    }
   ],
   "source": [
    "word = \"Solomon\"\n",
    "\n",
    "#slice the word until the second last \"o\"(Solom)\n",
    "\n",
    "ans = word[:5:1]# indexing \n",
    "\n",
    "print(ans)"
   ]
  },
  {
   "cell_type": "markdown",
   "metadata": {},
   "source": [
    "# Join Method"
   ]
  },
  {
   "cell_type": "code",
   "execution_count": 41,
   "metadata": {},
   "outputs": [
    {
     "name": "stdout",
     "output_type": "stream",
     "text": [
      "Uganda+++Kenya+++Rwanda+++Tanzania+++Burundi\n"
     ]
    }
   ],
   "source": [
    "# Join the list's elements with: \"+++\".\n",
    "\n",
    "lst = [\"Uganda\",\"Kenya\",\"Rwanda\",\"Tanzania\",\"Burundi\"]\n",
    "\n",
    "countries = \"+++\".join(lst)\n",
    "\n",
    "print(countries)"
   ]
  },
  {
   "cell_type": "code",
   "execution_count": 42,
   "metadata": {},
   "outputs": [
    {
     "name": "stdout",
     "output_type": "stream",
     "text": [
      "solomon@hotmail.com\n"
     ]
    }
   ],
   "source": [
    "#Join the tuple's elements so that you get a proper email address.\n",
    "\n",
    "address = (\"solomon\", \"hotmail.com\")\n",
    "\n",
    "my_address = \"@\".join(address)\n",
    "print(my_address)"
   ]
  },
  {
   "cell_type": "code",
   "execution_count": 43,
   "metadata": {},
   "outputs": [
    {
     "name": "stdout",
     "output_type": "stream",
     "text": [
      "Everything has beauty but not everyone\n"
     ]
    }
   ],
   "source": [
    "#Join each element in the list with a space character: \" \"\n",
    "\n",
    "lst2 = ['Everything','has','beauty','but','not','everyone']\n",
    "\n",
    "sentence = \" \".join(lst2)\n",
    "\n",
    "print(sentence)"
   ]
  },
  {
   "cell_type": "code",
   "execution_count": 44,
   "metadata": {},
   "outputs": [
    {
     "name": "stdout",
     "output_type": "stream",
     "text": [
      "Uganda,Kenya,Rwanda,Tanzania\n"
     ]
    }
   ],
   "source": [
    "#Using .join() method join the keys in the dictionary with a comma: \",\".\n",
    "    \n",
    "countries1 = {\"Uganda\": 4, \"Kenya\": 3, \"Rwanda\": 2, \"Tanzania\": 5}\n",
    "\n",
    "countries = \",\".join(countries1)\n",
    "\n",
    "print(countries)"
   ]
  },
  {
   "cell_type": "code",
   "execution_count": 45,
   "metadata": {},
   "outputs": [
    {
     "name": "stdout",
     "output_type": "stream",
     "text": [
      "The boy is going to school\n",
      "School life is challenging at times\n",
      "School always pays off\n"
     ]
    }
   ],
   "source": [
    "#\"\\n\" is a character that creates a new line.\n",
    "#Using \"\\n\" character and .join() method, join the \n",
    "#sentences in the list so that it looks like a proper poem.\n",
    "\n",
    "poem = [\"The boy is going to school\", \"School life is challenging at times\",\n",
    "       \"School always pays off\"]\n",
    "\n",
    "poetry = \"\\n\".join(poem)\n",
    "\n",
    "print(poetry)"
   ]
  },
  {
   "cell_type": "markdown",
   "metadata": {},
   "source": [
    "# Strip method"
   ]
  },
  {
   "cell_type": "code",
   "execution_count": 46,
   "metadata": {},
   "outputs": [
    {
     "name": "stdout",
     "output_type": "stream",
     "text": [
      "Hello World!\n"
     ]
    }
   ],
   "source": [
    "#Use strip method to strip the whitespaces on both sides of the string.\n",
    "\n",
    "str_1 = \"    Hello World!   \"\n",
    "\n",
    "str_1 = str_1.strip(\" \")\n",
    "\n",
    "print(str_1)"
   ]
  },
  {
   "cell_type": "markdown",
   "metadata": {},
   "source": [
    "# dir function\n"
   ]
  },
  {
   "cell_type": "code",
   "execution_count": 47,
   "metadata": {},
   "outputs": [
    {
     "name": "stdout",
     "output_type": "stream",
     "text": [
      "['__add__', '__class__', '__contains__', '__delattr__', '__dir__', '__doc__', '__eq__', '__format__', '__ge__', '__getattribute__', '__getitem__', '__getnewargs__', '__gt__', '__hash__', '__init__', '__init_subclass__', '__iter__', '__le__', '__len__', '__lt__', '__mod__', '__mul__', '__ne__', '__new__', '__reduce__', '__reduce_ex__', '__repr__', '__rmod__', '__rmul__', '__setattr__', '__sizeof__', '__str__', '__subclasshook__', 'capitalize', 'casefold', 'center', 'count', 'encode', 'endswith', 'expandtabs', 'find', 'format', 'format_map', 'index', 'isalnum', 'isalpha', 'isascii', 'isdecimal', 'isdigit', 'isidentifier', 'islower', 'isnumeric', 'isprintable', 'isspace', 'istitle', 'isupper', 'join', 'ljust', 'lower', 'lstrip', 'maketrans', 'partition', 'replace', 'rfind', 'rindex', 'rjust', 'rpartition', 'rsplit', 'rstrip', 'split', 'splitlines', 'startswith', 'strip', 'swapcase', 'title', 'translate', 'upper', 'zfill']\n"
     ]
    }
   ],
   "source": [
    "#Take a look at the attributes and methods of the str class.\n",
    "\n",
    "\n",
    "str_2 = \"Hello World!\"\n",
    "\n",
    "# dir() will show attributes and methods of an object\n",
    "\n",
    "print(dir(str_2))"
   ]
  },
  {
   "cell_type": "code",
   "execution_count": 48,
   "metadata": {},
   "outputs": [
    {
     "name": "stdout",
     "output_type": "stream",
     "text": [
      "['__add__', '__class__', '__contains__', '__delattr__', '__delitem__', '__dir__', '__doc__', '__eq__', '__format__', '__ge__', '__getattribute__', '__getitem__', '__gt__', '__hash__', '__iadd__', '__imul__', '__init__', '__init_subclass__', '__iter__', '__le__', '__len__', '__lt__', '__mul__', '__ne__', '__new__', '__reduce__', '__reduce_ex__', '__repr__', '__reversed__', '__rmul__', '__setattr__', '__setitem__', '__sizeof__', '__str__', '__subclasshook__', 'append', 'clear', 'copy', 'count', 'extend', 'index', 'insert', 'pop', 'remove', 'reverse', 'sort']\n"
     ]
    }
   ],
   "source": [
    "#print the attributes and methods of a list.\n",
    "\n",
    "lst = list()\n",
    "\n",
    "print(dir(lst))"
   ]
  },
  {
   "cell_type": "code",
   "execution_count": 49,
   "metadata": {},
   "outputs": [
    {
     "name": "stdout",
     "output_type": "stream",
     "text": [
      "['__class__', '__contains__', '__delattr__', '__delitem__', '__dir__', '__doc__', '__eq__', '__format__', '__ge__', '__getattribute__', '__getitem__', '__gt__', '__hash__', '__init__', '__init_subclass__', '__iter__', '__le__', '__len__', '__lt__', '__ne__', '__new__', '__reduce__', '__reduce_ex__', '__repr__', '__reversed__', '__setattr__', '__setitem__', '__sizeof__', '__str__', '__subclasshook__', 'clear', 'copy', 'fromkeys', 'get', 'items', 'keys', 'pop', 'popitem', 'setdefault', 'update', 'values']\n"
     ]
    }
   ],
   "source": [
    "#print the attributes and methods of a dictionary.\n",
    "\n",
    "print(dir({}))"
   ]
  },
  {
   "cell_type": "code",
   "execution_count": null,
   "metadata": {},
   "outputs": [],
   "source": []
  }
 ],
 "metadata": {
  "kernelspec": {
   "display_name": "Python 3",
   "language": "python",
   "name": "python3"
  },
  "language_info": {
   "codemirror_mode": {
    "name": "ipython",
    "version": 3
   },
   "file_extension": ".py",
   "mimetype": "text/x-python",
   "name": "python",
   "nbconvert_exporter": "python",
   "pygments_lexer": "ipython3",
   "version": "3.8.5"
  }
 },
 "nbformat": 4,
 "nbformat_minor": 4
}
