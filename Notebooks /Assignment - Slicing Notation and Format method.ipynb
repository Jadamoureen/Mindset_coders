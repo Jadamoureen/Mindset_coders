{
 "cells": [
  {
   "cell_type": "markdown",
   "metadata": {},
   "source": [
    "# Slicing \n",
    "\n",
    "\n",
    "1. Given a word \"Successful\"\n",
    "Slice so that it returns \"ful\"\n",
    "\n",
    "\n",
    "2. Can you slice the same word from beginning to the end with steps of 2 (including the last character.)?\n",
    "\n",
    "\n",
    "3. Now slice the word with steps of 2, excluding first and last characters.\n",
    "\n",
    "\n",
    "4. Can you slice the list so that it's reversed without using the .reverse() method?\n",
    "using a list of your choice \n",
    "\n",
    "\n",
    "5. Slice the same list so that only last 2 elements are included.\n",
    "\n",
    "\n",
    "6. Slice the same list second and third elements"
   ]
  },
  {
   "cell_type": "markdown",
   "metadata": {},
   "source": [
    "# Format method\n",
    "\n",
    "1. Using a string and .format() method print the number: 1 only.\n",
    "\n",
    "\n",
    "2. Now using a string and .format() method and three curly brackets, print the numbers: 1, 2, 3 each separated with a comma.\n",
    "\n",
    "\n",
    "3. Use the format method to fill in the values for months, weeks and days accordingly.\n",
    "\n",
    "\n",
    "4. You can also use indexing inside your curly brackets so that you will decide the position instead of a default order.\n",
    "\n",
    "By filling inside the curly brackets, make sure each bracket is matched to the appropriate value.\n",
    "fill in the months,weeks and days accordingly\n",
    "\n",
    "5. Given a scores of Moureen - 98%, Caroline - 100% , Jada - 95% can you use the .format method and print function to map these exam scores "
   ]
  },
  {
   "cell_type": "code",
   "execution_count": null,
   "metadata": {},
   "outputs": [],
   "source": []
  }
 ],
 "metadata": {
  "kernelspec": {
   "display_name": "Python 3",
   "language": "python",
   "name": "python3"
  },
  "language_info": {
   "codemirror_mode": {
    "name": "ipython",
    "version": 3
   },
   "file_extension": ".py",
   "mimetype": "text/x-python",
   "name": "python",
   "nbconvert_exporter": "python",
   "pygments_lexer": "ipython3",
   "version": "3.8.5"
  }
 },
 "nbformat": 4,
 "nbformat_minor": 4
}
